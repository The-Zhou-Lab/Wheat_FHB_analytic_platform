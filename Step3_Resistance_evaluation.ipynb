{
 "cells": [
  {
   "cell_type": "markdown",
   "id": "e5ed191a",
   "metadata": {},
   "source": [
    "# Importing Libraries"
   ]
  },
  {
   "cell_type": "code",
   "execution_count": 1,
   "id": "a632f43f",
   "metadata": {},
   "outputs": [],
   "source": [
    "import nbimporter  # Notebook importer: enables importing modules defined in Jupyter notebooks—useful for structuring analysis pipelines interactively.\n",
    "from Step1_processing import red_tags_extracted  # Import custom red‐tag detection function from your Step1_processing module.\n",
    "from Step2_FHB_related_traits_extract import trait_output_red_tags, trait_output_without_red_tags # Import custom trait_output_red_tags, trait_output_without_red_tags function from your Step2_FHB_related_traits_extract module.\n",
    "\n",
    "import numpy as np  \n",
    "import pandas as pd  \n",
    "from skimage import io, color, measure, img_as_ubyte, morphology  \n",
    "from skimage.io import imread  \n",
    "from skimage.draw import polygon, line  \n",
    "from skimage.measure import label, regionprops  \n",
    "from skimage.morphology import (\n",
    "    square, disk,             \n",
    "    closing, opening,          \n",
    "    erosion, binary_dilation,   \n",
    "    remove_small_objects        \n",
    ")\n",
    "\n",
    "from skimage import exposure, filters \n",
    "from skimage.util import img_as_ubyte  \n",
    "import cv2 \n",
    "from ultralytics import YOLO  # Ultralytics YOLO: state‐of‐the‐art object detection framework,.\n",
    "import matplotlib.pyplot as plt  \n",
    "from matplotlib import patches \n",
    "from PIL import Image  \n",
    "import os  \n",
    "from scipy.spatial.distance import euclidean, cdist  \n",
    "from sklearn.preprocessing import StandardScaler  \n",
    "import joblib  "
   ]
  },
  {
   "cell_type": "code",
   "execution_count": 2,
   "id": "45f487f6",
   "metadata": {},
   "outputs": [],
   "source": [
    "def predict_disease_label(Area_value, Length_value, model_data):\n",
    "    \n",
    "    # Extract the standardized features (X_scaled), cluster labels, and the scaler used during training\n",
    "    X_scaled, clusters, scaler = model_data['X_scaled'], model_data['clusters'], model_data['scaler']\n",
    "    \n",
    "    # Standardize the input data (CumSxArea_Region and CumSxLen_Region) to match the scale of the training data\n",
    "    data = np.array([Area_value, Length_value]).reshape(1, -1)\n",
    "    new_features_scaled = scaler.transform(data)\n",
    "\n",
    "    # Calculate the Euclidean distance between the new data point and the existing scaled feature points\n",
    "    # and find the closest cluster to the new data\n",
    "    closest_cluster = np.argmin(cdist(new_features_scaled, X_scaled, metric='euclidean'))\n",
    "\n",
    "    # Map the cluster number to a corresponding disease label (e.g., HR, MR, MS, HS)\n",
    "    labels_map = {0: \"HR\", 3: \"MR\", 2: \"MS\", 1: \"HS\"}\n",
    "    \n",
    "    # Return the predicted disease label based on the closest cluster\n",
    "    # If the cluster is not found in the labels map, return \"Unknown\"\n",
    "    return labels_map.get(clusters[closest_cluster], \"Unknown\")"
   ]
  },
  {
   "cell_type": "code",
   "execution_count": 3,
   "id": "2146dbb8",
   "metadata": {},
   "outputs": [],
   "source": [
    "# Clustering model\n",
    "model_data = joblib.load(\"Model_save/Resistance classfication model.joblib\") \n",
    "model = YOLO(\"Model_save/Yolov8-WFD.pt\") "
   ]
  },
  {
   "cell_type": "markdown",
   "id": "aa0bbfd8",
   "metadata": {},
   "source": [
    "# Evaluating resistance level(With of red rags)"
   ]
  },
  {
   "cell_type": "markdown",
   "id": "f3a2ac3b",
   "metadata": {},
   "source": [
    "Single image"
   ]
  },
  {
   "cell_type": "code",
   "execution_count": 4,
   "id": "eb30cec1",
   "metadata": {},
   "outputs": [
    {
     "name": "stdout",
     "output_type": "stream",
     "text": [
      "\n",
      "image 1/1 E:\\Evaluation platform-wheat FHB\\Data\\2.jpg: 640x352 5 scabs, 65 spikes, 148.0ms\n",
      "Speed: 2.0ms preprocess, 148.0ms inference, 67.3ms postprocess per image at shape (1, 3, 640, 352)\n"
     ]
    },
    {
     "data": {
      "text/html": [
       "<div>\n",
       "<style scoped>\n",
       "    .dataframe tbody tr th:only-of-type {\n",
       "        vertical-align: middle;\n",
       "    }\n",
       "\n",
       "    .dataframe tbody tr th {\n",
       "        vertical-align: top;\n",
       "    }\n",
       "\n",
       "    .dataframe thead th {\n",
       "        text-align: right;\n",
       "    }\n",
       "</style>\n",
       "<table border=\"1\" class=\"dataframe\">\n",
       "  <thead>\n",
       "    <tr style=\"text-align: right;\">\n",
       "      <th></th>\n",
       "      <th>Image_name</th>\n",
       "      <th>SxSpkPct_ROI</th>\n",
       "      <th>CumSxArea_ROI</th>\n",
       "      <th>AvgSxArea_Spk</th>\n",
       "      <th>CumSxLen_ROI</th>\n",
       "      <th>AvgSxLen_Spk</th>\n",
       "      <th>Resistance_Level</th>\n",
       "    </tr>\n",
       "  </thead>\n",
       "  <tbody>\n",
       "    <tr>\n",
       "      <th>0</th>\n",
       "      <td>2.jpg</td>\n",
       "      <td>0.119048</td>\n",
       "      <td>4.66492</td>\n",
       "      <td>0.856923</td>\n",
       "      <td>5.370165</td>\n",
       "      <td>0.86015</td>\n",
       "      <td>MR</td>\n",
       "    </tr>\n",
       "  </tbody>\n",
       "</table>\n",
       "</div>"
      ],
      "text/plain": [
       "  Image_name  SxSpkPct_ROI  CumSxArea_ROI  AvgSxArea_Spk  CumSxLen_ROI   \n",
       "0      2.jpg      0.119048        4.66492       0.856923      5.370165  \\\n",
       "\n",
       "   AvgSxLen_Spk Resistance_Level  \n",
       "0       0.86015               MR  "
      ]
     },
     "metadata": {},
     "output_type": "display_data"
    }
   ],
   "source": [
    "# Single Image Resistance Level Prediction Workflow\n",
    "image_path = \"Data/2.jpg\"  # Path to the input image \n",
    "\n",
    "# 1. Feature Extraction (Red Mark Detection)\n",
    "_, SxSpkPct_ROI, CumSxArea_ROI, AvgSxArea_Spk, CumSxLen_ROI, AvgSxLen_Spk, _, _ = trait_output_red_tags(image_path, model)\n",
    "\n",
    "# 2. Disease Resistance Prediction (Model or Rule-Based)\n",
    "predicted_labels = predict_disease_label(CumSxArea_ROI, CumSxLen_ROI, model_data)\n",
    "\n",
    "# 3. Organize Data into DataFrame for Results\n",
    "\n",
    "result_df = pd.DataFrame({\n",
    "    \"Image_name\": [os.path.basename(image_path)],  \n",
    "    \"SxSpkPct_ROI\": [SxSpkPct_ROI],  \n",
    "    \"CumSxArea_ROI\": [CumSxArea_ROI],  \n",
    "    \"AvgSxArea_Spk\": [AvgSxArea_Spk], \n",
    "    \"CumSxLen_ROI\": [CumSxLen_ROI],  \n",
    "    \"AvgSxLen_Spk\": [AvgSxLen_Spk],  \n",
    "    \"Resistance_Level\": [predicted_labels]  \n",
    "})\n",
    "\n",
    "# 4. Display Results\n",
    "display(result_df)\n",
    "\n"
   ]
  },
  {
   "cell_type": "markdown",
   "id": "3a570c1d",
   "metadata": {},
   "source": [
    "Batch processing"
   ]
  },
  {
   "cell_type": "code",
   "execution_count": 5,
   "id": "3d9407b9",
   "metadata": {
    "scrolled": true
   },
   "outputs": [
    {
     "name": "stdout",
     "output_type": "stream",
     "text": [
      "\n",
      "image 1/1 E:\\Evaluation platform-wheat FHB\\Data\\1.jpg: 640x320 2 scabs, 103 spikes, 146.4ms\n",
      "Speed: 1.8ms preprocess, 146.4ms inference, 4.0ms postprocess per image at shape (1, 3, 640, 320)\n",
      "\n",
      "image 1/1 E:\\Evaluation platform-wheat FHB\\Data\\2.jpg: 640x352 5 scabs, 65 spikes, 9.0ms\n",
      "Speed: 2.0ms preprocess, 9.0ms inference, 3.0ms postprocess per image at shape (1, 3, 640, 352)\n",
      "\n",
      "image 1/1 E:\\Evaluation platform-wheat FHB\\Data\\3.jpg: 640x320 1 scab, 105 spikes, 8.1ms\n",
      "Speed: 2.3ms preprocess, 8.1ms inference, 4.0ms postprocess per image at shape (1, 3, 640, 320)\n",
      "\n",
      "image 1/1 E:\\Evaluation platform-wheat FHB\\Data\\4.jpg: 640x320 8 scabs, 118 spikes, 9.0ms\n",
      "Speed: 2.0ms preprocess, 9.0ms inference, 4.0ms postprocess per image at shape (1, 3, 640, 320)\n",
      "\n",
      "image 1/1 E:\\Evaluation platform-wheat FHB\\Data\\5.jpg: 640x288 9 scabs, 75 spikes, 131.8ms\n",
      "Speed: 0.0ms preprocess, 131.8ms inference, 10.1ms postprocess per image at shape (1, 3, 640, 288)\n",
      "\n",
      "image 1/1 E:\\Evaluation platform-wheat FHB\\Data\\6.jpg: 640x320 5 scabs, 105 spikes, 11.0ms\n",
      "Speed: 2.0ms preprocess, 11.0ms inference, 3.0ms postprocess per image at shape (1, 3, 640, 320)\n",
      "\n",
      "image 1/1 E:\\Evaluation platform-wheat FHB\\Data\\7.jpg: 640x320 4 scabs, 75 spikes, 7.6ms\n",
      "Speed: 2.0ms preprocess, 7.6ms inference, 3.0ms postprocess per image at shape (1, 3, 640, 320)\n",
      "\n",
      "image 1/1 E:\\Evaluation platform-wheat FHB\\Data\\8.jpg: 640x320 8 scabs, 107 spikes, 10.4ms\n",
      "Speed: 10.1ms preprocess, 10.4ms inference, 40.6ms postprocess per image at shape (1, 3, 640, 320)\n",
      "Results saved to Result\\Results_with_red_tags.xlsx\n"
     ]
    }
   ],
   "source": [
    "# Folder containing the images for processing\n",
    "input_folder = r\"Data\"  # Define the directory where the input images are stored.\n",
    "\n",
    "# Initialize an empty list to collect results across all images\n",
    "results_data = []  # This will hold data such as image name, extracted features, and predicted resistance levels.\n",
    "\n",
    "# Iterate over all images in the input folder\n",
    "for image_name in os.listdir(input_folder):  # Loop through each file in the specified directory\n",
    "    image_path = os.path.join(input_folder, image_name)  # Get the full path to the image file\n",
    "    \n",
    "    # These traits can be extract.\n",
    "    _, SxSpkPct_ROI, CumSxArea_ROI, AvgSxArea_Spk, CumSxLen_ROI, AvgSxLen_Spk, _, _ = trait_output_red_tags(image_path, model)\n",
    "    \n",
    "    # This prediction is based on a predefined model or rule set.\n",
    "    predicted_labels = predict_disease_label(CumSxArea_ROI, CumSxLen_ROI, model_data)\n",
    "    \n",
    "    # Store the results for the current image\n",
    "    results_data.append([image_name, SxSpkPct_ROI, CumSxArea_ROI, AvgSxArea_Spk, CumSxLen_ROI, AvgSxLen_Spk, predicted_labels])\n",
    "\n",
    "# Each row in the DataFrame corresponds to an image with its associated metrics and prediction.\n",
    "results_df = pd.DataFrame(results_data, columns=[\n",
    "    \"Image name\", \"SxSpkPct_ROI\", \"CumSxArea_ROI\", \"AvgSxArea_Spk\", \n",
    "    \"CumSxLen_ROI\", \"AvgSxLen_Spk\", \"Resistance level\"\n",
    "])\n",
    "\n",
    "# The results will be saved to a specific directory for later use.\n",
    "output_excel_path = r\"Result\\Results_with_red_tags.xlsx\"  # Define the output file path for the Excel file\n",
    "results_df.to_excel(output_excel_path, index=False)  # Save DataFrame to Excel without including row index\n",
    "\n",
    "# Optionally, display a message confirming successful save\n",
    "print(f\"Results saved to {output_excel_path}\")  \n",
    "\n",
    "\n"
   ]
  },
  {
   "cell_type": "markdown",
   "id": "53119aa6",
   "metadata": {},
   "source": [
    "# Evaluating resistance level(Without of red rags)"
   ]
  },
  {
   "cell_type": "markdown",
   "id": "e5aa6a59",
   "metadata": {},
   "source": [
    "Single image"
   ]
  },
  {
   "cell_type": "code",
   "execution_count": 6,
   "id": "0ea56ed1",
   "metadata": {},
   "outputs": [
    {
     "name": "stdout",
     "output_type": "stream",
     "text": [
      "\n",
      "image 1/1 E:\\Evaluation platform-wheat FHB\\Data\\2.jpg: 640x352 5 scabs, 65 spikes, 32.0ms\n",
      "Speed: 3.0ms preprocess, 32.0ms inference, 32.3ms postprocess per image at shape (1, 3, 640, 352)\n"
     ]
    },
    {
     "data": {
      "text/html": [
       "<div>\n",
       "<style scoped>\n",
       "    .dataframe tbody tr th:only-of-type {\n",
       "        vertical-align: middle;\n",
       "    }\n",
       "\n",
       "    .dataframe tbody tr th {\n",
       "        vertical-align: top;\n",
       "    }\n",
       "\n",
       "    .dataframe thead th {\n",
       "        text-align: right;\n",
       "    }\n",
       "</style>\n",
       "<table border=\"1\" class=\"dataframe\">\n",
       "  <thead>\n",
       "    <tr style=\"text-align: right;\">\n",
       "      <th></th>\n",
       "      <th>SxSpkratio_Plot</th>\n",
       "      <th>SxSpkPct_ROI</th>\n",
       "      <th>CumSxArea_Plot</th>\n",
       "      <th>AvgSxArea_Spk</th>\n",
       "      <th>CumSxLen_Plot</th>\n",
       "      <th>AvgSxLen_Spk</th>\n",
       "      <th>Resistance_Level</th>\n",
       "    </tr>\n",
       "  </thead>\n",
       "  <tbody>\n",
       "    <tr>\n",
       "      <th>0</th>\n",
       "      <td>0.071429</td>\n",
       "      <td>Nan</td>\n",
       "      <td>4.284613</td>\n",
       "      <td>0.856923</td>\n",
       "      <td>4.300752</td>\n",
       "      <td>0.86015</td>\n",
       "      <td>MR</td>\n",
       "    </tr>\n",
       "  </tbody>\n",
       "</table>\n",
       "</div>"
      ],
      "text/plain": [
       "   SxSpkratio_Plot SxSpkPct_ROI  CumSxArea_Plot  AvgSxArea_Spk  CumSxLen_Plot   \n",
       "0         0.071429          Nan        4.284613       0.856923       4.300752  \\\n",
       "\n",
       "   AvgSxLen_Spk Resistance_Level  \n",
       "0       0.86015               MR  "
      ]
     },
     "metadata": {},
     "output_type": "display_data"
    }
   ],
   "source": [
    "# Single Image Resistance Level Prediction Workflow\n",
    "image_path=\"Data/2.jpg\"# Path to the input image\n",
    "# 1. Feature Extraction (Red Mark Detection)\n",
    "SxSpkratio_Plot, CumSxArea_Plot, AvgSxArea_Spk, CumSxLen_Plot, AvgSxLen_Spk,_,_=trait_output_without_red_tags(image_path,model)\n",
    "# 2. Disease Resistance Prediction (Model or Rule-Based)\n",
    "predicted_labels = predict_disease_label(CumSxArea_Plot, CumSxLen_Plot, model_data)\n",
    "# 3. Organize Data into DataFrame for Results\n",
    "result_df = pd.DataFrame({\n",
    "    \"SxSpkratio_Plot\": [SxSpkratio_Plot],\n",
    "    \"SxSpkPct_ROI\": [\"Nan\"],\n",
    "    \"CumSxArea_Plot\": [CumSxArea_Plot],\n",
    "    \"AvgSxArea_Spk\": [AvgSxArea_Spk],\n",
    "    \"CumSxLen_Plot\": [CumSxLen_Plot],\n",
    "    \"AvgSxLen_Spk\": [AvgSxLen_Spk],\n",
    "    \"Resistance_Level\":[predicted_labels]\n",
    "})\n",
    "\n",
    "# 4. Display Results\n",
    "display(result_df)"
   ]
  },
  {
   "cell_type": "markdown",
   "id": "5d41b3a6",
   "metadata": {},
   "source": [
    "Batch processing"
   ]
  },
  {
   "cell_type": "code",
   "execution_count": 7,
   "id": "53b117ff",
   "metadata": {
    "scrolled": true
   },
   "outputs": [
    {
     "name": "stdout",
     "output_type": "stream",
     "text": [
      "\n",
      "image 1/1 E:\\Evaluation platform-wheat FHB\\Data\\1.jpg: 640x320 2 scabs, 103 spikes, 47.6ms\n",
      "Speed: 0.0ms preprocess, 47.6ms inference, 31.8ms postprocess per image at shape (1, 3, 640, 320)\n",
      "\n",
      "image 1/1 E:\\Evaluation platform-wheat FHB\\Data\\2.jpg: 640x352 5 scabs, 65 spikes, 15.7ms\n",
      "Speed: 0.0ms preprocess, 15.7ms inference, 15.8ms postprocess per image at shape (1, 3, 640, 352)\n",
      "\n",
      "image 1/1 E:\\Evaluation platform-wheat FHB\\Data\\3.jpg: 640x320 1 scab, 105 spikes, 11.5ms\n",
      "Speed: 3.0ms preprocess, 11.5ms inference, 20.6ms postprocess per image at shape (1, 3, 640, 320)\n",
      "\n",
      "image 1/1 E:\\Evaluation platform-wheat FHB\\Data\\4.jpg: 640x320 8 scabs, 118 spikes, 10.2ms\n",
      "Speed: 0.0ms preprocess, 10.2ms inference, 20.6ms postprocess per image at shape (1, 3, 640, 320)\n",
      "\n",
      "image 1/1 E:\\Evaluation platform-wheat FHB\\Data\\5.jpg: 640x288 9 scabs, 75 spikes, 20.1ms\n",
      "Speed: 0.0ms preprocess, 20.1ms inference, 10.1ms postprocess per image at shape (1, 3, 640, 288)\n",
      "\n",
      "image 1/1 E:\\Evaluation platform-wheat FHB\\Data\\6.jpg: 640x320 5 scabs, 105 spikes, 20.4ms\n",
      "Speed: 0.0ms preprocess, 20.4ms inference, 20.2ms postprocess per image at shape (1, 3, 640, 320)\n",
      "\n",
      "image 1/1 E:\\Evaluation platform-wheat FHB\\Data\\7.jpg: 640x320 4 scabs, 75 spikes, 20.4ms\n",
      "Speed: 0.0ms preprocess, 20.4ms inference, 10.3ms postprocess per image at shape (1, 3, 640, 320)\n",
      "\n",
      "image 1/1 E:\\Evaluation platform-wheat FHB\\Data\\8.jpg: 640x320 8 scabs, 107 spikes, 10.1ms\n",
      "Speed: 10.0ms preprocess, 10.1ms inference, 20.7ms postprocess per image at shape (1, 3, 640, 320)\n",
      "Results saved to Result\\Results_without_red_tags.xlsx\n"
     ]
    }
   ],
   "source": [
    "# Folder containing the images for processing\n",
    "input_folder = r\"Data\"  # Define the directory where the input images are stored.\n",
    "\n",
    "# Initialize an empty list to collect results across all images\n",
    "results_data = []  # This will hold data such as image name, extracted features, and predicted resistance levels.\n",
    "# Iterate over all images in the folder\n",
    "for image_name in os.listdir(input_folder):\n",
    "    image_path = os.path.join(input_folder, image_name)\n",
    "    # These traits can be extract.\n",
    "    SxSpkratio_Plot, CumSxArea_Plot, AvgSxArea_Spk, CumSxLen_Plot, AvgSxLen_Spk,_,_=trait_output_without_red_tags(image_path,model)\n",
    "    \n",
    "    # This prediction is based on a predefined model or rule set.\n",
    "    predicted_labels = predict_disease_label(CumSxArea_Plot, CumSxLen_Plot, model_data)\n",
    "    # Store the results for the current image\n",
    "    results_data.append([image_name,SxSpkratio_Plot, CumSxArea_Plot, AvgSxArea_Spk, CumSxLen_Plot, AvgSxLen_Spk, predicted_labels])\n",
    "# Each row in the DataFrame corresponds to an image with its associated metrics and prediction.\n",
    "results_df = pd.DataFrame(results_data, columns=[\n",
    "    \"Image name\", \"SxSpkratio_Plot\", \"CumSxArea_Plot\", \"AvgSxArea_Spk\", \n",
    "    \"CumSxLen_Plot\", \"AvgSxLen_Spk\", \"Resistance level\"\n",
    "])\n",
    "\n",
    "# The results will be saved to a specific directory for later use.\n",
    "output_excel_path = r\"Result\\Results_without_red_tags.xlsx\"  # Define the output file path for the Excel file\n",
    "results_df.to_excel(output_excel_path, index=False)  # Save DataFrame to Excel without including row index\n",
    "\n",
    "# Optionally, display a message confirming successful save\n",
    "print(f\"Results saved to {output_excel_path}\")  \n"
   ]
  },
  {
   "cell_type": "code",
   "execution_count": null,
   "id": "d19e62aa",
   "metadata": {},
   "outputs": [],
   "source": []
  },
  {
   "cell_type": "code",
   "execution_count": null,
   "id": "fc38a0e3",
   "metadata": {},
   "outputs": [],
   "source": []
  },
  {
   "cell_type": "code",
   "execution_count": null,
   "id": "8fdfa2c8",
   "metadata": {},
   "outputs": [],
   "source": []
  }
 ],
 "metadata": {
  "kernelspec": {
   "display_name": "python38",
   "language": "python",
   "name": "python38"
  },
  "language_info": {
   "codemirror_mode": {
    "name": "ipython",
    "version": 3
   },
   "file_extension": ".py",
   "mimetype": "text/x-python",
   "name": "python",
   "nbconvert_exporter": "python",
   "pygments_lexer": "ipython3",
   "version": "3.8.16"
  },
  "toc": {
   "base_numbering": 1,
   "nav_menu": {},
   "number_sections": true,
   "sideBar": true,
   "skip_h1_title": false,
   "title_cell": "Table of Contents",
   "title_sidebar": "Contents",
   "toc_cell": false,
   "toc_position": {},
   "toc_section_display": true,
   "toc_window_display": false
  }
 },
 "nbformat": 4,
 "nbformat_minor": 5
}
