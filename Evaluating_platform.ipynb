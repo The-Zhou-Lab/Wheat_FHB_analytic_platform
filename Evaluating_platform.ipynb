{
 "cells": [
  {
   "cell_type": "markdown",
   "id": "e5ed191a",
   "metadata": {},
   "source": [
    "# Importing Libraries"
   ]
  },
  {
   "cell_type": "code",
   "execution_count": 1,
   "id": "a632f43f",
   "metadata": {},
   "outputs": [],
   "source": [
    "import nbimporter\n",
    "from Processing import red_tages_extracted\n",
    "from FHB_traits_output import trait_output_red_markers\n",
    "from FHB_traits_output import trait_output_without_red_markers\n",
    "\n",
    "\n",
    "import numpy as np  \n",
    "import pandas as pd  \n",
    "from skimage import io, color, measure, img_as_ubyte, morphology  \n",
    "from skimage.io import imread  \n",
    "from skimage.draw import polygon, line  \n",
    "from skimage.measure import label, regionprops  \n",
    "from skimage.morphology import square, closing, binary_dilation, opening, erosion, remove_small_objects, disk  \n",
    "from skimage import exposure, filters \n",
    "from skimage.util import img_as_ubyte  \n",
    "import cv2 \n",
    "from ultralytics import YOLO  \n",
    "import matplotlib.pyplot as plt  \n",
    "from matplotlib import patches \n",
    "from PIL import Image  \n",
    "import os  \n",
    "from scipy.spatial.distance import euclidean, cdist  \n",
    "from sklearn.preprocessing import StandardScaler  \n",
    "import joblib  "
   ]
  },
  {
   "cell_type": "code",
   "execution_count": 2,
   "id": "45f487f6",
   "metadata": {},
   "outputs": [],
   "source": [
    "def predict_disease_label(Area_value, Length_value, model_data):\n",
    "    \n",
    "    # Extract the standardized features (X_scaled), cluster labels, and the scaler used during training\n",
    "    X_scaled, clusters, scaler = model_data['X_scaled'], model_data['clusters'], model_data['scaler']\n",
    "    \n",
    "    # Standardize the input data (CumSxArea_Region and CumSxLen_Region) to match the scale of the training data\n",
    "    data = np.array([Area_value, Length_value]).reshape(1, -1)\n",
    "    new_features_scaled = scaler.transform(data)\n",
    "\n",
    "    # Calculate the Euclidean distance between the new data point and the existing scaled feature points\n",
    "    # and find the closest cluster to the new data\n",
    "    closest_cluster = np.argmin(cdist(new_features_scaled, X_scaled, metric='euclidean'))\n",
    "\n",
    "    # Map the cluster number to a corresponding disease label (e.g., HR, MR, MS, HS)\n",
    "    labels_map = {0: \"HR\", 3: \"MR\", 2: \"MS\", 1: \"HS\"}\n",
    "    \n",
    "    # Return the predicted disease label based on the closest cluster\n",
    "    # If the cluster is not found in the labels map, return \"Unknown\"\n",
    "    return labels_map.get(clusters[closest_cluster], \"Unknown\")"
   ]
  },
  {
   "cell_type": "code",
   "execution_count": 3,
   "id": "2146dbb8",
   "metadata": {},
   "outputs": [],
   "source": [
    "# Clustering model\n",
    "model_data = joblib.load(\"Model_save/Hierarchical clustering model.joblib\") \n",
    "model = YOLO(\"Model_save/Yolov8-WFD.pt\") "
   ]
  },
  {
   "cell_type": "markdown",
   "id": "aa0bbfd8",
   "metadata": {},
   "source": [
    "# Evaluating resistance level(With of red markers)"
   ]
  },
  {
   "cell_type": "markdown",
   "id": "f3a2ac3b",
   "metadata": {},
   "source": [
    "Single image"
   ]
  },
  {
   "cell_type": "code",
   "execution_count": 4,
   "id": "eb30cec1",
   "metadata": {},
   "outputs": [
    {
     "name": "stdout",
     "output_type": "stream",
     "text": [
      "\n",
      "image 1/1 C:\\Users\\liush\\Desktop\\Evaluation plantform-wheat FHB\\Data\\2.jpg: 640x352 5 scabs, 65 spikes, 144.8ms\n",
      "Speed: 0.0ms preprocess, 144.8ms inference, 73.2ms postprocess per image at shape (1, 3, 640, 352)\n"
     ]
    },
    {
     "data": {
      "text/html": [
       "<div>\n",
       "<style scoped>\n",
       "    .dataframe tbody tr th:only-of-type {\n",
       "        vertical-align: middle;\n",
       "    }\n",
       "\n",
       "    .dataframe tbody tr th {\n",
       "        vertical-align: top;\n",
       "    }\n",
       "\n",
       "    .dataframe thead th {\n",
       "        text-align: right;\n",
       "    }\n",
       "</style>\n",
       "<table border=\"1\" class=\"dataframe\">\n",
       "  <thead>\n",
       "    <tr style=\"text-align: right;\">\n",
       "      <th></th>\n",
       "      <th>SxSpkPct_Plot</th>\n",
       "      <th>SxSpkPct_ROI</th>\n",
       "      <th>CumSxArea_ROI</th>\n",
       "      <th>AvgSxArea_Spk</th>\n",
       "      <th>CumSxLen_ROI</th>\n",
       "      <th>AvgSxLen_Spk</th>\n",
       "      <th>Resistance_Level</th>\n",
       "    </tr>\n",
       "  </thead>\n",
       "  <tbody>\n",
       "    <tr>\n",
       "      <th>0</th>\n",
       "      <td>0.2</td>\n",
       "      <td>0.102041</td>\n",
       "      <td>4.701468</td>\n",
       "      <td>0.856923</td>\n",
       "      <td>5.67572</td>\n",
       "      <td>0.86015</td>\n",
       "      <td>MR</td>\n",
       "    </tr>\n",
       "  </tbody>\n",
       "</table>\n",
       "</div>"
      ],
      "text/plain": [
       "   SxSpkPct_Plot  SxSpkPct_ROI  CumSxArea_ROI  AvgSxArea_Spk  CumSxLen_ROI   \n",
       "0            0.2      0.102041       4.701468       0.856923       5.67572  \\\n",
       "\n",
       "   AvgSxLen_Spk Resistance_Level  \n",
       "0       0.86015               MR  "
      ]
     },
     "metadata": {},
     "output_type": "display_data"
    }
   ],
   "source": [
    "image_path=\"Data/2.jpg\"\n",
    "SxSpkPct_Plot,SxSpkPct_ROI, CumSxArea_ROI, AvgSxArea_Spk, CumSxLen_ROI, AvgSxLen_Spk,_,_=trait_output_red_markers(image_path,model)\n",
    "predicted_labels = predict_disease_label(CumSxArea_ROI, CumSxLen_ROI, model_data)\n",
    "data = {\n",
    "    \"SxSpkPct_Plot\": [SxSpkPct_Plot],\n",
    "    \"SxSpkPct_ROI\": [SxSpkPct_ROI],\n",
    "    \"CumSxArea_ROI\": [CumSxArea_ROI],\n",
    "    \"AvgSxArea_Spk\": [AvgSxArea_Spk],\n",
    "    \"CumSxLen_ROI\": [CumSxLen_ROI],\n",
    "    \"AvgSxLen_Spk\": [AvgSxLen_Spk],\n",
    "    \"Resistance_Level\": [predicted_labels]\n",
    "}\n",
    "\n",
    "df = pd.DataFrame(data)\n",
    "display(df)"
   ]
  },
  {
   "cell_type": "markdown",
   "id": "3a570c1d",
   "metadata": {},
   "source": [
    "Batch processing"
   ]
  },
  {
   "cell_type": "code",
   "execution_count": 5,
   "id": "3d9407b9",
   "metadata": {
    "scrolled": true
   },
   "outputs": [
    {
     "name": "stdout",
     "output_type": "stream",
     "text": [
      "\n",
      "image 1/1 C:\\Users\\liush\\Desktop\\Evaluation plantform-wheat FHB\\Data\\1.jpg: 640x320 2 scabs, 103 spikes, 139.3ms\n",
      "Speed: 2.0ms preprocess, 139.3ms inference, 10.4ms postprocess per image at shape (1, 3, 640, 320)\n",
      "\n",
      "image 1/1 C:\\Users\\liush\\Desktop\\Evaluation plantform-wheat FHB\\Data\\1.jpg: 640x320 2 scabs, 103 spikes, 10.5ms\n",
      "Speed: 2.0ms preprocess, 10.5ms inference, 4.9ms postprocess per image at shape (1, 3, 640, 320)\n",
      "\n",
      "image 1/1 C:\\Users\\liush\\Desktop\\Evaluation plantform-wheat FHB\\Data\\2.jpg: 640x352 5 scabs, 65 spikes, 8.9ms\n",
      "Speed: 2.2ms preprocess, 8.9ms inference, 3.0ms postprocess per image at shape (1, 3, 640, 352)\n",
      "\n",
      "image 1/1 C:\\Users\\liush\\Desktop\\Evaluation plantform-wheat FHB\\Data\\2.jpg: 640x352 5 scabs, 65 spikes, 10.1ms\n",
      "Speed: 1.0ms preprocess, 10.1ms inference, 3.4ms postprocess per image at shape (1, 3, 640, 352)\n",
      "\n",
      "image 1/1 C:\\Users\\liush\\Desktop\\Evaluation plantform-wheat FHB\\Data\\3.jpg: 640x320 1 scab, 105 spikes, 9.0ms\n",
      "Speed: 3.0ms preprocess, 9.0ms inference, 4.3ms postprocess per image at shape (1, 3, 640, 320)\n",
      "\n",
      "image 1/1 C:\\Users\\liush\\Desktop\\Evaluation plantform-wheat FHB\\Data\\3.jpg: 640x320 1 scab, 105 spikes, 9.0ms\n",
      "Speed: 2.0ms preprocess, 9.0ms inference, 3.0ms postprocess per image at shape (1, 3, 640, 320)\n",
      "\n",
      "image 1/1 C:\\Users\\liush\\Desktop\\Evaluation plantform-wheat FHB\\Data\\4.jpg: 640x320 8 scabs, 118 spikes, 8.0ms\n",
      "Speed: 2.6ms preprocess, 8.0ms inference, 4.1ms postprocess per image at shape (1, 3, 640, 320)\n",
      "\n",
      "image 1/1 C:\\Users\\liush\\Desktop\\Evaluation plantform-wheat FHB\\Data\\4.jpg: 640x320 8 scabs, 118 spikes, 9.6ms\n",
      "Speed: 2.0ms preprocess, 9.6ms inference, 5.0ms postprocess per image at shape (1, 3, 640, 320)\n",
      "\n",
      "image 1/1 C:\\Users\\liush\\Desktop\\Evaluation plantform-wheat FHB\\Data\\6.jpg: 640x288 9 scabs, 75 spikes, 136.8ms\n",
      "Speed: 2.0ms preprocess, 136.8ms inference, 10.1ms postprocess per image at shape (1, 3, 640, 288)\n",
      "\n",
      "image 1/1 C:\\Users\\liush\\Desktop\\Evaluation plantform-wheat FHB\\Data\\6.jpg: 640x288 9 scabs, 75 spikes, 7.9ms\n",
      "Speed: 1.3ms preprocess, 7.9ms inference, 3.0ms postprocess per image at shape (1, 3, 640, 288)\n",
      "\n",
      "image 1/1 C:\\Users\\liush\\Desktop\\Evaluation plantform-wheat FHB\\Data\\7.jpg: 640x320 5 scabs, 105 spikes, 3.0ms\n",
      "Speed: 2.0ms preprocess, 3.0ms inference, 10.1ms postprocess per image at shape (1, 3, 640, 320)\n",
      "\n",
      "image 1/1 C:\\Users\\liush\\Desktop\\Evaluation plantform-wheat FHB\\Data\\7.jpg: 640x320 5 scabs, 105 spikes, 18.3ms\n",
      "Speed: 1.7ms preprocess, 18.3ms inference, 17.1ms postprocess per image at shape (1, 3, 640, 320)\n",
      "\n",
      "image 1/1 C:\\Users\\liush\\Desktop\\Evaluation plantform-wheat FHB\\Data\\8.jpg: 640x320 4 scabs, 75 spikes, 24.9ms\n",
      "Speed: 3.0ms preprocess, 24.9ms inference, 30.9ms postprocess per image at shape (1, 3, 640, 320)\n",
      "\n",
      "image 1/1 C:\\Users\\liush\\Desktop\\Evaluation plantform-wheat FHB\\Data\\8.jpg: 640x320 4 scabs, 75 spikes, 32.0ms\n",
      "Speed: 5.0ms preprocess, 32.0ms inference, 27.7ms postprocess per image at shape (1, 3, 640, 320)\n",
      "\n",
      "image 1/1 C:\\Users\\liush\\Desktop\\Evaluation plantform-wheat FHB\\Data\\9.jpg: 640x320 8 scabs, 107 spikes, 9.3ms\n",
      "Speed: 3.0ms preprocess, 9.3ms inference, 19.7ms postprocess per image at shape (1, 3, 640, 320)\n",
      "\n",
      "image 1/1 C:\\Users\\liush\\Desktop\\Evaluation plantform-wheat FHB\\Data\\9.jpg: 640x320 8 scabs, 107 spikes, 17.2ms\n",
      "Speed: 3.0ms preprocess, 17.2ms inference, 12.0ms postprocess per image at shape (1, 3, 640, 320)\n",
      "Results saved to Result\\Results_with of red markers.xlsx\n"
     ]
    }
   ],
   "source": [
    "input_folder = r\"Data\" \n",
    "results_data = []\n",
    "# Iterate over all images in the folder\n",
    "for image_name in os.listdir(input_folder):\n",
    "    image_path = os.path.join(input_folder, image_name)\n",
    "    results = model.predict(image_path, conf=0.5, save=False, show=False, show_labels=False)\n",
    "    # Process the diseased spike region and extract various metrics\n",
    "    SxSpkPct_Plot,SxSpkPct_ROI, CumSxArea_ROI, AvgSxArea_Spk, CumSxLen_ROI, AvgSxLen_Spk,_,_=trait_output_red_markers(image_path,model)\n",
    "    \n",
    "    # Predict the disease resistance level based on the extracted metrics\n",
    "    predicted_labels = predict_disease_label(CumSxArea_ROI, CumSxLen_ROI, model_data)\n",
    "    results_data.append([image_name, SxSpkPct_Plot,SxSpkPct_ROI, CumSxArea_ROI, AvgSxArea_Spk, CumSxLen_ROI, AvgSxLen_Spk, predicted_labels])\n",
    "# Convert results into a DataFrame\n",
    "results_df = pd.DataFrame(results_data, columns=[\"Image name\", \"SxSpkPct_Plot\",\"SxSpkPct_ROI\", \"CumSxArea_ROI\", \"AvgSxArea_Spk\", \"CumSxLen_ROI\", \"AvgSxLen_Spk\", \"Resistance level\"])\n",
    "\n",
    "# Save results to Excel\n",
    "output_excel_path = r\"Result\\Results_with of red markers.xlsx\"\n",
    "results_df.to_excel(output_excel_path, index=False)\n",
    "\n",
    "# Optionally, display a message\n",
    "print(f\"Results saved to {output_excel_path}\")"
   ]
  },
  {
   "cell_type": "markdown",
   "id": "53119aa6",
   "metadata": {},
   "source": [
    "# Evaluating resistance level(Without of red markers)"
   ]
  },
  {
   "cell_type": "markdown",
   "id": "e5aa6a59",
   "metadata": {},
   "source": [
    "Single image"
   ]
  },
  {
   "cell_type": "code",
   "execution_count": 6,
   "id": "0ea56ed1",
   "metadata": {},
   "outputs": [
    {
     "name": "stdout",
     "output_type": "stream",
     "text": [
      "\n",
      "image 1/1 C:\\Users\\liush\\Desktop\\Evaluation plantform-wheat FHB\\Data\\2.jpg: 640x352 5 scabs, 65 spikes, 39.5ms\n",
      "Speed: 4.0ms preprocess, 39.5ms inference, 15.7ms postprocess per image at shape (1, 3, 640, 352)\n"
     ]
    },
    {
     "data": {
      "text/html": [
       "<div>\n",
       "<style scoped>\n",
       "    .dataframe tbody tr th:only-of-type {\n",
       "        vertical-align: middle;\n",
       "    }\n",
       "\n",
       "    .dataframe tbody tr th {\n",
       "        vertical-align: top;\n",
       "    }\n",
       "\n",
       "    .dataframe thead th {\n",
       "        text-align: right;\n",
       "    }\n",
       "</style>\n",
       "<table border=\"1\" class=\"dataframe\">\n",
       "  <thead>\n",
       "    <tr style=\"text-align: right;\">\n",
       "      <th></th>\n",
       "      <th>SxSpkratio_Plot</th>\n",
       "      <th>SxSpkPct_ROI</th>\n",
       "      <th>CumSxArea_Plot</th>\n",
       "      <th>AvgSxArea_Spk</th>\n",
       "      <th>CumSxLen_Plot</th>\n",
       "      <th>AvgSxLen_Spk</th>\n",
       "      <th>Resistance_Level</th>\n",
       "    </tr>\n",
       "  </thead>\n",
       "  <tbody>\n",
       "    <tr>\n",
       "      <th>0</th>\n",
       "      <td>0.071429</td>\n",
       "      <td>Nan</td>\n",
       "      <td>4.284613</td>\n",
       "      <td>0.856923</td>\n",
       "      <td>4.300752</td>\n",
       "      <td>0.86015</td>\n",
       "      <td>MR</td>\n",
       "    </tr>\n",
       "  </tbody>\n",
       "</table>\n",
       "</div>"
      ],
      "text/plain": [
       "   SxSpkratio_Plot SxSpkPct_ROI  CumSxArea_Plot  AvgSxArea_Spk  CumSxLen_Plot   \n",
       "0         0.071429          Nan        4.284613       0.856923       4.300752  \\\n",
       "\n",
       "   AvgSxLen_Spk Resistance_Level  \n",
       "0       0.86015               MR  "
      ]
     },
     "metadata": {},
     "output_type": "display_data"
    }
   ],
   "source": [
    "image_path=\"Data/2.jpg\"\n",
    "SxSpkratio_Plot, CumSxArea_Plot, AvgSxArea_Spk, CumSxLen_Plot, AvgSxLen_Spk,_,_=trait_output_without_red_markers(image_path,model)\n",
    "predicted_labels = predict_disease_label(CumSxArea_Plot, CumSxLen_Plot, model_data)\n",
    "data = {\n",
    "    \"SxSpkratio_Plot\": [SxSpkratio_Plot],\n",
    "    \"SxSpkPct_ROI\": [\"Nan\"],\n",
    "    \"CumSxArea_Plot\": [CumSxArea_Plot],\n",
    "    \"AvgSxArea_Spk\": [AvgSxArea_Spk],\n",
    "    \"CumSxLen_Plot\": [CumSxLen_Plot],\n",
    "    \"AvgSxLen_Spk\": [AvgSxLen_Spk],\n",
    "    \"Resistance_Level\":[predicted_labels]\n",
    "}\n",
    "\n",
    "df = pd.DataFrame(data)\n",
    "display(df)"
   ]
  },
  {
   "cell_type": "markdown",
   "id": "5d41b3a6",
   "metadata": {},
   "source": [
    "Batch processing"
   ]
  },
  {
   "cell_type": "code",
   "execution_count": 7,
   "id": "53b117ff",
   "metadata": {
    "scrolled": true
   },
   "outputs": [
    {
     "name": "stdout",
     "output_type": "stream",
     "text": [
      "\n",
      "image 1/1 C:\\Users\\liush\\Desktop\\Evaluation plantform-wheat FHB\\Data\\1.jpg: 640x320 2 scabs, 103 spikes, 26.4ms\n",
      "Speed: 4.5ms preprocess, 26.4ms inference, 47.7ms postprocess per image at shape (1, 3, 640, 320)\n",
      "\n",
      "image 1/1 C:\\Users\\liush\\Desktop\\Evaluation plantform-wheat FHB\\Data\\1.jpg: 640x320 2 scabs, 103 spikes, 35.0ms\n",
      "Speed: 3.4ms preprocess, 35.0ms inference, 31.8ms postprocess per image at shape (1, 3, 640, 320)\n",
      "\n",
      "image 1/1 C:\\Users\\liush\\Desktop\\Evaluation plantform-wheat FHB\\Data\\2.jpg: 640x352 5 scabs, 65 spikes, 23.4ms\n",
      "Speed: 3.0ms preprocess, 23.4ms inference, 31.7ms postprocess per image at shape (1, 3, 640, 352)\n",
      "\n",
      "image 1/1 C:\\Users\\liush\\Desktop\\Evaluation plantform-wheat FHB\\Data\\2.jpg: 640x352 5 scabs, 65 spikes, 34.3ms\n",
      "Speed: 6.0ms preprocess, 34.3ms inference, 24.4ms postprocess per image at shape (1, 3, 640, 352)\n",
      "\n",
      "image 1/1 C:\\Users\\liush\\Desktop\\Evaluation plantform-wheat FHB\\Data\\3.jpg: 640x320 1 scab, 105 spikes, 17.0ms\n",
      "Speed: 3.3ms preprocess, 17.0ms inference, 15.8ms postprocess per image at shape (1, 3, 640, 320)\n",
      "\n",
      "image 1/1 C:\\Users\\liush\\Desktop\\Evaluation plantform-wheat FHB\\Data\\3.jpg: 640x320 1 scab, 105 spikes, 18.5ms\n",
      "Speed: 3.0ms preprocess, 18.5ms inference, 17.2ms postprocess per image at shape (1, 3, 640, 320)\n",
      "\n",
      "image 1/1 C:\\Users\\liush\\Desktop\\Evaluation plantform-wheat FHB\\Data\\4.jpg: 640x320 8 scabs, 118 spikes, 17.3ms\n",
      "Speed: 3.1ms preprocess, 17.3ms inference, 13.0ms postprocess per image at shape (1, 3, 640, 320)\n",
      "\n",
      "image 1/1 C:\\Users\\liush\\Desktop\\Evaluation plantform-wheat FHB\\Data\\4.jpg: 640x320 8 scabs, 118 spikes, 17.3ms\n",
      "Speed: 4.2ms preprocess, 17.3ms inference, 20.2ms postprocess per image at shape (1, 3, 640, 320)\n",
      "\n",
      "image 1/1 C:\\Users\\liush\\Desktop\\Evaluation plantform-wheat FHB\\Data\\6.jpg: 640x288 9 scabs, 75 spikes, 17.5ms\n",
      "Speed: 2.1ms preprocess, 17.5ms inference, 13.0ms postprocess per image at shape (1, 3, 640, 288)\n",
      "\n",
      "image 1/1 C:\\Users\\liush\\Desktop\\Evaluation plantform-wheat FHB\\Data\\6.jpg: 640x288 9 scabs, 75 spikes, 15.9ms\n",
      "Speed: 4.1ms preprocess, 15.9ms inference, 13.3ms postprocess per image at shape (1, 3, 640, 288)\n",
      "\n",
      "image 1/1 C:\\Users\\liush\\Desktop\\Evaluation plantform-wheat FHB\\Data\\7.jpg: 640x320 5 scabs, 105 spikes, 19.0ms\n",
      "Speed: 3.0ms preprocess, 19.0ms inference, 10.1ms postprocess per image at shape (1, 3, 640, 320)\n",
      "\n",
      "image 1/1 C:\\Users\\liush\\Desktop\\Evaluation plantform-wheat FHB\\Data\\7.jpg: 640x320 5 scabs, 105 spikes, 17.4ms\n",
      "Speed: 3.0ms preprocess, 17.4ms inference, 17.2ms postprocess per image at shape (1, 3, 640, 320)\n",
      "\n",
      "image 1/1 C:\\Users\\liush\\Desktop\\Evaluation plantform-wheat FHB\\Data\\8.jpg: 640x320 4 scabs, 75 spikes, 23.3ms\n",
      "Speed: 4.0ms preprocess, 23.3ms inference, 31.1ms postprocess per image at shape (1, 3, 640, 320)\n",
      "\n",
      "image 1/1 C:\\Users\\liush\\Desktop\\Evaluation plantform-wheat FHB\\Data\\8.jpg: 640x320 4 scabs, 75 spikes, 30.5ms\n",
      "Speed: 4.0ms preprocess, 30.5ms inference, 19.0ms postprocess per image at shape (1, 3, 640, 320)\n",
      "\n",
      "image 1/1 C:\\Users\\liush\\Desktop\\Evaluation plantform-wheat FHB\\Data\\9.jpg: 640x320 8 scabs, 107 spikes, 11.0ms\n",
      "Speed: 3.0ms preprocess, 11.0ms inference, 15.7ms postprocess per image at shape (1, 3, 640, 320)\n",
      "\n",
      "image 1/1 C:\\Users\\liush\\Desktop\\Evaluation plantform-wheat FHB\\Data\\9.jpg: 640x320 8 scabs, 107 spikes, 17.5ms\n",
      "Speed: 2.0ms preprocess, 17.5ms inference, 18.1ms postprocess per image at shape (1, 3, 640, 320)\n",
      "Results saved to Result\\Results_without of red markers.xlsx\n"
     ]
    }
   ],
   "source": [
    "input_folder = r\"Data\" \n",
    "results_data = []\n",
    "# Iterate over all images in the folder\n",
    "for image_name in os.listdir(input_folder):\n",
    "    image_path = os.path.join(input_folder, image_name)\n",
    "    results = model.predict(image_path, conf=0.5, save=False, show=False, show_labels=False)\n",
    "    # Process the diseased spike region and extract various metrics\n",
    "    SxSpkratio_Plot, CumSxArea_Plot, AvgSxArea_Spk, CumSxLen_Plot, AvgSxLen_Spk,_,_=trait_output_without_red_markers(image_path,model)\n",
    "    \n",
    "    # Predict the disease resistance level based on the extracted metrics\n",
    "    predicted_labels = predict_disease_label(CumSxArea_ROI, CumSxLen_ROI, model_data)\n",
    "    results_data.append([image_name,SxSpkratio_Plot, CumSxArea_Plot, AvgSxArea_Spk, CumSxLen_Plot, AvgSxLen_Spk, predicted_labels])\n",
    "# Convert results into a DataFrame\n",
    "results_df = pd.DataFrame(results_data, columns=[\"Image name\", \"SxSpkratio_Plot\",\"CumSxArea_Plot\", \"AvgSxArea_Spk\", \"CumSxLen_Plot\", \"AvgSxLen_Spk\",\"Resistance level\"])\n",
    "\n",
    "# Save results to Excel\n",
    "output_excel_path = r\"Result\\Results_without of red markers.xlsx\"\n",
    "results_df.to_excel(output_excel_path, index=False)\n",
    "\n",
    "# Optionally, display a message\n",
    "print(f\"Results saved to {output_excel_path}\")"
   ]
  },
  {
   "cell_type": "code",
   "execution_count": null,
   "id": "d19e62aa",
   "metadata": {},
   "outputs": [],
   "source": []
  }
 ],
 "metadata": {
  "kernelspec": {
   "display_name": "python38",
   "language": "python",
   "name": "python38"
  },
  "language_info": {
   "codemirror_mode": {
    "name": "ipython",
    "version": 3
   },
   "file_extension": ".py",
   "mimetype": "text/x-python",
   "name": "python",
   "nbconvert_exporter": "python",
   "pygments_lexer": "ipython3",
   "version": "3.8.16"
  },
  "toc": {
   "base_numbering": 1,
   "nav_menu": {},
   "number_sections": true,
   "sideBar": true,
   "skip_h1_title": false,
   "title_cell": "Table of Contents",
   "title_sidebar": "Contents",
   "toc_cell": false,
   "toc_position": {},
   "toc_section_display": true,
   "toc_window_display": false
  }
 },
 "nbformat": 4,
 "nbformat_minor": 5
}
