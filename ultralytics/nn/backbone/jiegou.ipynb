{
 "cells": [
  {
   "cell_type": "code",
   "execution_count": null,
   "metadata": {
    "collapsed": true
   },
   "outputs": [],
   "source": [
    "import torch\n",
    "from torchviz import make_dot\n",
    "from lsknet import lsknet_t  # 导入lsknet_t模型的函数\n",
    "\n",
    "# 创建lsknet_t模型的实例\n",
    "model = lsknet_t()\n",
    "\n",
    "# 创建一个示例输入（batch_size=1, channels=3, height=640, width=640）\n",
    "inputs = torch.randn((1, 3, 640, 640))\n",
    "\n",
    "# 将模型和输入传入make_dot函数，生成结构图\n",
    "make_dot(model(inputs), params=dict(model.named_parameters()))\n"
   ]
  }
 ],
 "metadata": {
  "kernelspec": {
   "display_name": "Python 3",
   "language": "python",
   "name": "python3"
  },
  "language_info": {
   "codemirror_mode": {
    "name": "ipython",
    "version": 2
   },
   "file_extension": ".py",
   "mimetype": "text/x-python",
   "name": "python",
   "nbconvert_exporter": "python",
   "pygments_lexer": "ipython2",
   "version": "2.7.6"
  }
 },
 "nbformat": 4,
 "nbformat_minor": 0
}
